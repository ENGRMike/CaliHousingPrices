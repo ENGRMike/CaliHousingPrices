{
  "nbformat": 4,
  "nbformat_minor": 0,
  "metadata": {
    "colab": {
      "name": "HousingPrices-Regression.ipynb",
      "provenance": []
    },
    "kernelspec": {
      "name": "python3",
      "display_name": "Python 3"
    },
    "language_info": {
      "name": "python"
    }
  },
  "cells": [
    {
      "cell_type": "code",
      "execution_count": 1,
      "metadata": {
        "colab": {
          "base_uri": "https://localhost:8080/"
        },
        "id": "ix6SWcaMmQ4M",
        "outputId": "9327826b-08e5-4af2-bbc7-f58bafa357e2"
      },
      "outputs": [
        {
          "output_type": "stream",
          "name": "stdout",
          "text": [
            "Mounted at /content/gdrive\n"
          ]
        }
      ],
      "source": [
        "from google.colab import drive\n",
        "drive.mount(\"/content/gdrive\")\n"
      ]
    },
    {
      "cell_type": "code",
      "source": [
        "!ls /content/gdrive/MyDrive/Data/HousingPrices/"
      ],
      "metadata": {
        "colab": {
          "base_uri": "https://localhost:8080/"
        },
        "id": "m148Jwq5mYxu",
        "outputId": "2878e10b-7164-4d5d-a6f7-7864b1478610"
      },
      "execution_count": 4,
      "outputs": [
        {
          "output_type": "stream",
          "name": "stdout",
          "text": [
            "housing.csv\n"
          ]
        }
      ]
    },
    {
      "cell_type": "code",
      "source": [
        "import pandas as pd\n",
        "\n",
        "df = pd.read_csv(\"/content/gdrive/MyDrive/Data/HousingPrices/housing.csv\")\n",
        "df.fillna(0, inplace=True)\n",
        "df"
      ],
      "metadata": {
        "colab": {
          "base_uri": "https://localhost:8080/",
          "height": 488
        },
        "id": "OIV5jER-ml3t",
        "outputId": "d1145ad2-81d7-4398-f616-f3ae1063b610"
      },
      "execution_count": 14,
      "outputs": [
        {
          "output_type": "execute_result",
          "data": {
            "text/html": [
              "\n",
              "  <div id=\"df-38dd151d-c9de-4fc3-acc5-36c68e6230e7\">\n",
              "    <div class=\"colab-df-container\">\n",
              "      <div>\n",
              "<style scoped>\n",
              "    .dataframe tbody tr th:only-of-type {\n",
              "        vertical-align: middle;\n",
              "    }\n",
              "\n",
              "    .dataframe tbody tr th {\n",
              "        vertical-align: top;\n",
              "    }\n",
              "\n",
              "    .dataframe thead th {\n",
              "        text-align: right;\n",
              "    }\n",
              "</style>\n",
              "<table border=\"1\" class=\"dataframe\">\n",
              "  <thead>\n",
              "    <tr style=\"text-align: right;\">\n",
              "      <th></th>\n",
              "      <th>Median_House_Value</th>\n",
              "      <th>Median_Income</th>\n",
              "      <th>Median_Age</th>\n",
              "      <th>Tot_Rooms</th>\n",
              "      <th>Tot_Bedrooms</th>\n",
              "      <th>Population</th>\n",
              "      <th>Households</th>\n",
              "      <th>Latitude</th>\n",
              "      <th>Longitude</th>\n",
              "      <th>Distance_to_coast</th>\n",
              "      <th>Distance_to_LA</th>\n",
              "      <th>Distance_to_SanDiego</th>\n",
              "      <th>Distance_to_SanJose</th>\n",
              "      <th>Distance_to_SanFrancisco</th>\n",
              "    </tr>\n",
              "  </thead>\n",
              "  <tbody>\n",
              "    <tr>\n",
              "      <th>0</th>\n",
              "      <td>452600.0</td>\n",
              "      <td>8.3252</td>\n",
              "      <td>41</td>\n",
              "      <td>880</td>\n",
              "      <td>129</td>\n",
              "      <td>322</td>\n",
              "      <td>126</td>\n",
              "      <td>37.88</td>\n",
              "      <td>-122.23</td>\n",
              "      <td>9263.040773</td>\n",
              "      <td>556529.158342</td>\n",
              "      <td>735501.806984</td>\n",
              "      <td>67432.517001</td>\n",
              "      <td>21250.213767</td>\n",
              "    </tr>\n",
              "    <tr>\n",
              "      <th>1</th>\n",
              "      <td>358500.0</td>\n",
              "      <td>8.3014</td>\n",
              "      <td>21</td>\n",
              "      <td>7099</td>\n",
              "      <td>1106</td>\n",
              "      <td>2401</td>\n",
              "      <td>1138</td>\n",
              "      <td>37.86</td>\n",
              "      <td>-122.22</td>\n",
              "      <td>10225.733072</td>\n",
              "      <td>554279.850069</td>\n",
              "      <td>733236.884360</td>\n",
              "      <td>65049.908574</td>\n",
              "      <td>20880.600400</td>\n",
              "    </tr>\n",
              "    <tr>\n",
              "      <th>2</th>\n",
              "      <td>352100.0</td>\n",
              "      <td>7.2574</td>\n",
              "      <td>52</td>\n",
              "      <td>1467</td>\n",
              "      <td>190</td>\n",
              "      <td>496</td>\n",
              "      <td>177</td>\n",
              "      <td>37.85</td>\n",
              "      <td>-122.24</td>\n",
              "      <td>8259.085109</td>\n",
              "      <td>554610.717069</td>\n",
              "      <td>733525.682937</td>\n",
              "      <td>64867.289833</td>\n",
              "      <td>18811.487450</td>\n",
              "    </tr>\n",
              "    <tr>\n",
              "      <th>3</th>\n",
              "      <td>341300.0</td>\n",
              "      <td>5.6431</td>\n",
              "      <td>52</td>\n",
              "      <td>1274</td>\n",
              "      <td>235</td>\n",
              "      <td>558</td>\n",
              "      <td>219</td>\n",
              "      <td>37.85</td>\n",
              "      <td>-122.25</td>\n",
              "      <td>7768.086571</td>\n",
              "      <td>555194.266086</td>\n",
              "      <td>734095.290744</td>\n",
              "      <td>65287.138412</td>\n",
              "      <td>18031.047568</td>\n",
              "    </tr>\n",
              "    <tr>\n",
              "      <th>4</th>\n",
              "      <td>342200.0</td>\n",
              "      <td>3.8462</td>\n",
              "      <td>52</td>\n",
              "      <td>1627</td>\n",
              "      <td>280</td>\n",
              "      <td>565</td>\n",
              "      <td>259</td>\n",
              "      <td>37.85</td>\n",
              "      <td>-122.25</td>\n",
              "      <td>7768.086571</td>\n",
              "      <td>555194.266086</td>\n",
              "      <td>734095.290744</td>\n",
              "      <td>65287.138412</td>\n",
              "      <td>18031.047568</td>\n",
              "    </tr>\n",
              "    <tr>\n",
              "      <th>...</th>\n",
              "      <td>...</td>\n",
              "      <td>...</td>\n",
              "      <td>...</td>\n",
              "      <td>...</td>\n",
              "      <td>...</td>\n",
              "      <td>...</td>\n",
              "      <td>...</td>\n",
              "      <td>...</td>\n",
              "      <td>...</td>\n",
              "      <td>...</td>\n",
              "      <td>...</td>\n",
              "      <td>...</td>\n",
              "      <td>...</td>\n",
              "      <td>...</td>\n",
              "    </tr>\n",
              "    <tr>\n",
              "      <th>20635</th>\n",
              "      <td>78100.0</td>\n",
              "      <td>1.5603</td>\n",
              "      <td>25</td>\n",
              "      <td>1665</td>\n",
              "      <td>374</td>\n",
              "      <td>845</td>\n",
              "      <td>330</td>\n",
              "      <td>39.48</td>\n",
              "      <td>-121.09</td>\n",
              "      <td>162031.481121</td>\n",
              "      <td>654530.186299</td>\n",
              "      <td>830631.543047</td>\n",
              "      <td>248510.058162</td>\n",
              "      <td>222619.890417</td>\n",
              "    </tr>\n",
              "    <tr>\n",
              "      <th>20636</th>\n",
              "      <td>77100.0</td>\n",
              "      <td>2.5568</td>\n",
              "      <td>18</td>\n",
              "      <td>697</td>\n",
              "      <td>150</td>\n",
              "      <td>356</td>\n",
              "      <td>114</td>\n",
              "      <td>39.49</td>\n",
              "      <td>-121.21</td>\n",
              "      <td>160445.433537</td>\n",
              "      <td>659747.068444</td>\n",
              "      <td>836245.915229</td>\n",
              "      <td>246849.888948</td>\n",
              "      <td>218314.424634</td>\n",
              "    </tr>\n",
              "    <tr>\n",
              "      <th>20637</th>\n",
              "      <td>92300.0</td>\n",
              "      <td>1.7000</td>\n",
              "      <td>17</td>\n",
              "      <td>2254</td>\n",
              "      <td>485</td>\n",
              "      <td>1007</td>\n",
              "      <td>433</td>\n",
              "      <td>39.43</td>\n",
              "      <td>-121.22</td>\n",
              "      <td>153754.341182</td>\n",
              "      <td>654042.214020</td>\n",
              "      <td>830699.573163</td>\n",
              "      <td>240172.220489</td>\n",
              "      <td>212097.936232</td>\n",
              "    </tr>\n",
              "    <tr>\n",
              "      <th>20638</th>\n",
              "      <td>84700.0</td>\n",
              "      <td>1.8672</td>\n",
              "      <td>18</td>\n",
              "      <td>1860</td>\n",
              "      <td>409</td>\n",
              "      <td>741</td>\n",
              "      <td>349</td>\n",
              "      <td>39.43</td>\n",
              "      <td>-121.32</td>\n",
              "      <td>152005.022239</td>\n",
              "      <td>657698.007703</td>\n",
              "      <td>834672.461887</td>\n",
              "      <td>238193.865909</td>\n",
              "      <td>207923.199166</td>\n",
              "    </tr>\n",
              "    <tr>\n",
              "      <th>20639</th>\n",
              "      <td>89400.0</td>\n",
              "      <td>2.3886</td>\n",
              "      <td>16</td>\n",
              "      <td>2785</td>\n",
              "      <td>616</td>\n",
              "      <td>1387</td>\n",
              "      <td>530</td>\n",
              "      <td>39.37</td>\n",
              "      <td>-121.24</td>\n",
              "      <td>146866.196892</td>\n",
              "      <td>648723.337126</td>\n",
              "      <td>825569.179028</td>\n",
              "      <td>233282.769063</td>\n",
              "      <td>205473.376575</td>\n",
              "    </tr>\n",
              "  </tbody>\n",
              "</table>\n",
              "<p>20640 rows × 14 columns</p>\n",
              "</div>\n",
              "      <button class=\"colab-df-convert\" onclick=\"convertToInteractive('df-38dd151d-c9de-4fc3-acc5-36c68e6230e7')\"\n",
              "              title=\"Convert this dataframe to an interactive table.\"\n",
              "              style=\"display:none;\">\n",
              "        \n",
              "  <svg xmlns=\"http://www.w3.org/2000/svg\" height=\"24px\"viewBox=\"0 0 24 24\"\n",
              "       width=\"24px\">\n",
              "    <path d=\"M0 0h24v24H0V0z\" fill=\"none\"/>\n",
              "    <path d=\"M18.56 5.44l.94 2.06.94-2.06 2.06-.94-2.06-.94-.94-2.06-.94 2.06-2.06.94zm-11 1L8.5 8.5l.94-2.06 2.06-.94-2.06-.94L8.5 2.5l-.94 2.06-2.06.94zm10 10l.94 2.06.94-2.06 2.06-.94-2.06-.94-.94-2.06-.94 2.06-2.06.94z\"/><path d=\"M17.41 7.96l-1.37-1.37c-.4-.4-.92-.59-1.43-.59-.52 0-1.04.2-1.43.59L10.3 9.45l-7.72 7.72c-.78.78-.78 2.05 0 2.83L4 21.41c.39.39.9.59 1.41.59.51 0 1.02-.2 1.41-.59l7.78-7.78 2.81-2.81c.8-.78.8-2.07 0-2.86zM5.41 20L4 18.59l7.72-7.72 1.47 1.35L5.41 20z\"/>\n",
              "  </svg>\n",
              "      </button>\n",
              "      \n",
              "  <style>\n",
              "    .colab-df-container {\n",
              "      display:flex;\n",
              "      flex-wrap:wrap;\n",
              "      gap: 12px;\n",
              "    }\n",
              "\n",
              "    .colab-df-convert {\n",
              "      background-color: #E8F0FE;\n",
              "      border: none;\n",
              "      border-radius: 50%;\n",
              "      cursor: pointer;\n",
              "      display: none;\n",
              "      fill: #1967D2;\n",
              "      height: 32px;\n",
              "      padding: 0 0 0 0;\n",
              "      width: 32px;\n",
              "    }\n",
              "\n",
              "    .colab-df-convert:hover {\n",
              "      background-color: #E2EBFA;\n",
              "      box-shadow: 0px 1px 2px rgba(60, 64, 67, 0.3), 0px 1px 3px 1px rgba(60, 64, 67, 0.15);\n",
              "      fill: #174EA6;\n",
              "    }\n",
              "\n",
              "    [theme=dark] .colab-df-convert {\n",
              "      background-color: #3B4455;\n",
              "      fill: #D2E3FC;\n",
              "    }\n",
              "\n",
              "    [theme=dark] .colab-df-convert:hover {\n",
              "      background-color: #434B5C;\n",
              "      box-shadow: 0px 1px 3px 1px rgba(0, 0, 0, 0.15);\n",
              "      filter: drop-shadow(0px 1px 2px rgba(0, 0, 0, 0.3));\n",
              "      fill: #FFFFFF;\n",
              "    }\n",
              "  </style>\n",
              "\n",
              "      <script>\n",
              "        const buttonEl =\n",
              "          document.querySelector('#df-38dd151d-c9de-4fc3-acc5-36c68e6230e7 button.colab-df-convert');\n",
              "        buttonEl.style.display =\n",
              "          google.colab.kernel.accessAllowed ? 'block' : 'none';\n",
              "\n",
              "        async function convertToInteractive(key) {\n",
              "          const element = document.querySelector('#df-38dd151d-c9de-4fc3-acc5-36c68e6230e7');\n",
              "          const dataTable =\n",
              "            await google.colab.kernel.invokeFunction('convertToInteractive',\n",
              "                                                     [key], {});\n",
              "          if (!dataTable) return;\n",
              "\n",
              "          const docLinkHtml = 'Like what you see? Visit the ' +\n",
              "            '<a target=\"_blank\" href=https://colab.research.google.com/notebooks/data_table.ipynb>data table notebook</a>'\n",
              "            + ' to learn more about interactive tables.';\n",
              "          element.innerHTML = '';\n",
              "          dataTable['output_type'] = 'display_data';\n",
              "          await google.colab.output.renderOutput(dataTable, element);\n",
              "          const docLink = document.createElement('div');\n",
              "          docLink.innerHTML = docLinkHtml;\n",
              "          element.appendChild(docLink);\n",
              "        }\n",
              "      </script>\n",
              "    </div>\n",
              "  </div>\n",
              "  "
            ],
            "text/plain": [
              "       Median_House_Value  ...  Distance_to_SanFrancisco\n",
              "0                452600.0  ...              21250.213767\n",
              "1                358500.0  ...              20880.600400\n",
              "2                352100.0  ...              18811.487450\n",
              "3                341300.0  ...              18031.047568\n",
              "4                342200.0  ...              18031.047568\n",
              "...                   ...  ...                       ...\n",
              "20635             78100.0  ...             222619.890417\n",
              "20636             77100.0  ...             218314.424634\n",
              "20637             92300.0  ...             212097.936232\n",
              "20638             84700.0  ...             207923.199166\n",
              "20639             89400.0  ...             205473.376575\n",
              "\n",
              "[20640 rows x 14 columns]"
            ]
          },
          "metadata": {},
          "execution_count": 14
        }
      ]
    },
    {
      "cell_type": "markdown",
      "source": [
        "## Using linear regression predict a houses distance to the coast based on other housing factors. "
      ],
      "metadata": {
        "id": "vBTiWSpIxaC6"
      }
    },
    {
      "cell_type": "code",
      "source": [
        "y = df[\"Distance_to_coast\"]\n",
        "\n",
        "data_keys = df.keys()[:-5]\n",
        "x_unscaled = df[data_keys]"
      ],
      "metadata": {
        "id": "hzcPOvTEwmx6"
      },
      "execution_count": 25,
      "outputs": []
    },
    {
      "cell_type": "code",
      "source": [
        "from sklearn.decomposition import PCA"
      ],
      "metadata": {
        "id": "YgEoWxCxmvzk"
      },
      "execution_count": 15,
      "outputs": []
    },
    {
      "cell_type": "code",
      "source": [
        "from sklearn.preprocessing import MinMaxScaler\n",
        "\n",
        "scaler = MinMaxScaler()\n",
        "data_rescaled = scaler.fit_transform(x_unscaled)\n",
        "data_rescaled"
      ],
      "metadata": {
        "colab": {
          "base_uri": "https://localhost:8080/"
        },
        "id": "iZpHsjqRsYFQ",
        "outputId": "01f1b48f-ee50-4279-9ce3-93a4a9eaee9a"
      },
      "execution_count": 26,
      "outputs": [
        {
          "output_type": "execute_result",
          "data": {
            "text/plain": [
              "array([[0.90226638, 0.53966842, 0.78431373, ..., 0.02055583, 0.5674814 ,\n",
              "        0.21115538],\n",
              "       [0.70824656, 0.53802706, 0.39215686, ..., 0.18697583, 0.565356  ,\n",
              "        0.21215139],\n",
              "       [0.69505074, 0.46602805, 1.        , ..., 0.02894261, 0.5642933 ,\n",
              "        0.21015936],\n",
              "       ...,\n",
              "       [0.15938285, 0.08276438, 0.31372549, ..., 0.07104095, 0.73219979,\n",
              "        0.31175299],\n",
              "       [0.14371281, 0.09429525, 0.33333333, ..., 0.05722743, 0.73219979,\n",
              "        0.30179283],\n",
              "       [0.15340349, 0.13025338, 0.29411765, ..., 0.08699227, 0.72582359,\n",
              "        0.30976096]])"
            ]
          },
          "metadata": {},
          "execution_count": 26
        }
      ]
    },
    {
      "cell_type": "markdown",
      "source": [
        "## Linear Regression model without principla comoponent analyisis. "
      ],
      "metadata": {
        "id": "COUEkEi0xwOh"
      }
    },
    {
      "cell_type": "code",
      "source": [
        "from sklearn.model_selection import train_test_split\n",
        "\n",
        "X_train, X_test, y_train, y_test = train_test_split(data_rescaled, y, test_size=.15, random_state=9)"
      ],
      "metadata": {
        "id": "ZKtAenP4xvFm"
      },
      "execution_count": 95,
      "outputs": []
    },
    {
      "cell_type": "code",
      "source": [
        "from sklearn.linear_model import LinearRegression\n",
        "\n",
        "lr = LinearRegression()\n",
        "\n",
        "model = lr.fit(X_train, y_train)"
      ],
      "metadata": {
        "id": "5YSSxpjOxu9p"
      },
      "execution_count": 96,
      "outputs": []
    },
    {
      "cell_type": "code",
      "source": [
        "y_pred = lr.predict(X_test)"
      ],
      "metadata": {
        "id": "Svhgf_bxxu6H"
      },
      "execution_count": 97,
      "outputs": []
    },
    {
      "cell_type": "code",
      "source": [
        "lr.score(X_test, y_test).round(4)"
      ],
      "metadata": {
        "colab": {
          "base_uri": "https://localhost:8080/"
        },
        "id": "p5xXt9OJyioB",
        "outputId": "ae9b0c63-c772-46d6-adb0-647e4991b5c3"
      },
      "execution_count": 98,
      "outputs": [
        {
          "output_type": "execute_result",
          "data": {
            "text/plain": [
              "0.671"
            ]
          },
          "metadata": {},
          "execution_count": 98
        }
      ]
    },
    {
      "cell_type": "markdown",
      "source": [
        "## Testing the Linear Regression with PCA"
      ],
      "metadata": {
        "id": "R_49oU2qy4xL"
      }
    },
    {
      "cell_type": "code",
      "source": [
        "pca = PCA(n_components=6) \n",
        "pca.fit(data_rescaled)\n",
        "reduced = pca.transform(data_rescaled)"
      ],
      "metadata": {
        "id": "8_S_GurrtTXD"
      },
      "execution_count": 84,
      "outputs": []
    },
    {
      "cell_type": "code",
      "source": [
        "pca_X_train, pca_X_test, pca_y_train, pca_y_test = train_test_split(reduced, y, test_size=0.15, random_state=9)"
      ],
      "metadata": {
        "id": "82OpWVOxzLcC"
      },
      "execution_count": 99,
      "outputs": []
    },
    {
      "cell_type": "code",
      "source": [
        "pca_lr = LinearRegression()\n",
        "\n",
        "pca_model = pca_lr.fit(pca_X_train, pca_y_train)"
      ],
      "metadata": {
        "id": "2sMSyPHKzYOP"
      },
      "execution_count": 100,
      "outputs": []
    },
    {
      "cell_type": "code",
      "source": [
        "pca_pred = pca_lr.predict(pca_X_test)"
      ],
      "metadata": {
        "id": "xMJdwmsuzbRu"
      },
      "execution_count": 101,
      "outputs": []
    },
    {
      "cell_type": "code",
      "source": [
        "pca_lr.score(pca_X_test, pca_y_test).round(4)"
      ],
      "metadata": {
        "colab": {
          "base_uri": "https://localhost:8080/"
        },
        "id": "e50vm8hZzk8p",
        "outputId": "b5bb237c-4e08-4adf-cfd5-692a2dacd699"
      },
      "execution_count": 102,
      "outputs": [
        {
          "output_type": "execute_result",
          "data": {
            "text/plain": [
              "0.6706"
            ]
          },
          "metadata": {},
          "execution_count": 102
        }
      ]
    },
    {
      "cell_type": "markdown",
      "source": [
        "As you can see dropping our components from 9 to 6 using PCA gives us very similar results as the standard linear regression. "
      ],
      "metadata": {
        "id": "xxxitxCI0yZN"
      }
    },
    {
      "cell_type": "markdown",
      "source": [
        "## Testing the Linear Regression with SVD"
      ],
      "metadata": {
        "id": "6lsAJUM80LEw"
      }
    },
    {
      "cell_type": "code",
      "source": [
        "from sklearn.decomposition import TruncatedSVD"
      ],
      "metadata": {
        "id": "6V6g5_MJzwNO"
      },
      "execution_count": 89,
      "outputs": []
    },
    {
      "cell_type": "code",
      "source": [
        "svd = TruncatedSVD(n_components=6)\n",
        "svd.fit(data_rescaled)\n",
        "svd_reduced = svd.transform(data_rescaled)"
      ],
      "metadata": {
        "id": "BkLffNqR1FpL"
      },
      "execution_count": 90,
      "outputs": []
    },
    {
      "cell_type": "code",
      "source": [
        "svd_X_train, svd_X_test, svd_y_train, svd_y_test = train_test_split(svd_reduced, y, test_size=0.15, random_state=9)"
      ],
      "metadata": {
        "id": "s34wx3-J1WLo"
      },
      "execution_count": 103,
      "outputs": []
    },
    {
      "cell_type": "code",
      "source": [
        "svd_lr = LinearRegression()\n",
        "\n",
        "svd_model = svd_lr.fit(svd_X_train, svd_y_train)"
      ],
      "metadata": {
        "id": "eT1XKH-21grA"
      },
      "execution_count": 104,
      "outputs": []
    },
    {
      "cell_type": "code",
      "source": [
        "svd_pred = svd_lr.predict(svd_X_test)"
      ],
      "metadata": {
        "id": "92sR6eXb1obG"
      },
      "execution_count": 105,
      "outputs": []
    },
    {
      "cell_type": "code",
      "source": [
        "svd_lr.score(svd_X_test, svd_y_test).round(4)"
      ],
      "metadata": {
        "colab": {
          "base_uri": "https://localhost:8080/"
        },
        "id": "1CS65z8Q1sJF",
        "outputId": "0807c872-e6f5-40ab-fe6a-2bf9d9c9439f"
      },
      "execution_count": 106,
      "outputs": [
        {
          "output_type": "execute_result",
          "data": {
            "text/plain": [
              "0.6695"
            ]
          },
          "metadata": {},
          "execution_count": 106
        }
      ]
    },
    {
      "cell_type": "code",
      "source": [
        ""
      ],
      "metadata": {
        "id": "-PPw_2gV1w-f"
      },
      "execution_count": null,
      "outputs": []
    }
  ]
}