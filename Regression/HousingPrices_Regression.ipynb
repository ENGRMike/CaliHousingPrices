{
  "cells": [
    {
      "cell_type": "code",
      "execution_count": 1,
      "metadata": {
        "colab": {
          "base_uri": "https://localhost:8080/"
        },
        "id": "ix6SWcaMmQ4M",
        "outputId": "f185a81d-07b7-4b3a-9fca-7e6b3c50d062"
      },
      "outputs": [
        {
          "name": "stdout",
          "output_type": "stream",
          "text": [
            "Drive already mounted at /content/gdrive; to attempt to forcibly remount, call drive.mount(\"/content/gdrive\", force_remount=True).\n"
          ]
        }
      ],
      "source": [
        "from google.colab import drive\n",
        "drive.mount(\"/content/gdrive\")\n"
      ]
    },
    {
      "cell_type": "code",
      "execution_count": 2,
      "metadata": {
        "colab": {
          "base_uri": "https://localhost:8080/"
        },
        "id": "m148Jwq5mYxu",
        "outputId": "3749683d-6e11-462c-fe0f-21062a9824cc"
      },
      "outputs": [
        {
          "name": "stdout",
          "output_type": "stream",
          "text": [
            "housing.csv\n"
          ]
        }
      ],
      "source": [
        "!ls /content/gdrive/MyDrive/Data/HousingPrices/"
      ]
    },
    {
      "cell_type": "code",
      "execution_count": 9,
      "metadata": {
        "colab": {
          "base_uri": "https://localhost:8080/",
          "height": 488
        },
        "id": "OIV5jER-ml3t",
        "outputId": "e8c15b52-6692-48fa-af30-622bd41e19a1"
      },
      "outputs": [
        {
          "data": {
            "text/html": [
              "<div>\n",
              "<style scoped>\n",
              "    .dataframe tbody tr th:only-of-type {\n",
              "        vertical-align: middle;\n",
              "    }\n",
              "\n",
              "    .dataframe tbody tr th {\n",
              "        vertical-align: top;\n",
              "    }\n",
              "\n",
              "    .dataframe thead th {\n",
              "        text-align: right;\n",
              "    }\n",
              "</style>\n",
              "<table border=\"1\" class=\"dataframe\">\n",
              "  <thead>\n",
              "    <tr style=\"text-align: right;\">\n",
              "      <th></th>\n",
              "      <th>Median_House_Value</th>\n",
              "      <th>Median_Income</th>\n",
              "      <th>Median_Age</th>\n",
              "      <th>Tot_Rooms</th>\n",
              "      <th>Tot_Bedrooms</th>\n",
              "      <th>Population</th>\n",
              "      <th>Households</th>\n",
              "      <th>Latitude</th>\n",
              "      <th>Longitude</th>\n",
              "      <th>Distance_to_coast</th>\n",
              "      <th>Distance_to_LA</th>\n",
              "      <th>Distance_to_SanDiego</th>\n",
              "      <th>Distance_to_SanJose</th>\n",
              "      <th>Distance_to_SanFrancisco</th>\n",
              "    </tr>\n",
              "  </thead>\n",
              "  <tbody>\n",
              "    <tr>\n",
              "      <th>0</th>\n",
              "      <td>452600.0</td>\n",
              "      <td>8.3252</td>\n",
              "      <td>41</td>\n",
              "      <td>880</td>\n",
              "      <td>129</td>\n",
              "      <td>322</td>\n",
              "      <td>126</td>\n",
              "      <td>37.88</td>\n",
              "      <td>-122.23</td>\n",
              "      <td>9263.040773</td>\n",
              "      <td>556529.158342</td>\n",
              "      <td>735501.806984</td>\n",
              "      <td>67432.517001</td>\n",
              "      <td>21250.213767</td>\n",
              "    </tr>\n",
              "    <tr>\n",
              "      <th>1</th>\n",
              "      <td>358500.0</td>\n",
              "      <td>8.3014</td>\n",
              "      <td>21</td>\n",
              "      <td>7099</td>\n",
              "      <td>1106</td>\n",
              "      <td>2401</td>\n",
              "      <td>1138</td>\n",
              "      <td>37.86</td>\n",
              "      <td>-122.22</td>\n",
              "      <td>10225.733072</td>\n",
              "      <td>554279.850069</td>\n",
              "      <td>733236.884360</td>\n",
              "      <td>65049.908574</td>\n",
              "      <td>20880.600400</td>\n",
              "    </tr>\n",
              "    <tr>\n",
              "      <th>2</th>\n",
              "      <td>352100.0</td>\n",
              "      <td>7.2574</td>\n",
              "      <td>52</td>\n",
              "      <td>1467</td>\n",
              "      <td>190</td>\n",
              "      <td>496</td>\n",
              "      <td>177</td>\n",
              "      <td>37.85</td>\n",
              "      <td>-122.24</td>\n",
              "      <td>8259.085109</td>\n",
              "      <td>554610.717069</td>\n",
              "      <td>733525.682937</td>\n",
              "      <td>64867.289833</td>\n",
              "      <td>18811.487450</td>\n",
              "    </tr>\n",
              "    <tr>\n",
              "      <th>3</th>\n",
              "      <td>341300.0</td>\n",
              "      <td>5.6431</td>\n",
              "      <td>52</td>\n",
              "      <td>1274</td>\n",
              "      <td>235</td>\n",
              "      <td>558</td>\n",
              "      <td>219</td>\n",
              "      <td>37.85</td>\n",
              "      <td>-122.25</td>\n",
              "      <td>7768.086571</td>\n",
              "      <td>555194.266086</td>\n",
              "      <td>734095.290744</td>\n",
              "      <td>65287.138412</td>\n",
              "      <td>18031.047568</td>\n",
              "    </tr>\n",
              "    <tr>\n",
              "      <th>4</th>\n",
              "      <td>342200.0</td>\n",
              "      <td>3.8462</td>\n",
              "      <td>52</td>\n",
              "      <td>1627</td>\n",
              "      <td>280</td>\n",
              "      <td>565</td>\n",
              "      <td>259</td>\n",
              "      <td>37.85</td>\n",
              "      <td>-122.25</td>\n",
              "      <td>7768.086571</td>\n",
              "      <td>555194.266086</td>\n",
              "      <td>734095.290744</td>\n",
              "      <td>65287.138412</td>\n",
              "      <td>18031.047568</td>\n",
              "    </tr>\n",
              "    <tr>\n",
              "      <th>...</th>\n",
              "      <td>...</td>\n",
              "      <td>...</td>\n",
              "      <td>...</td>\n",
              "      <td>...</td>\n",
              "      <td>...</td>\n",
              "      <td>...</td>\n",
              "      <td>...</td>\n",
              "      <td>...</td>\n",
              "      <td>...</td>\n",
              "      <td>...</td>\n",
              "      <td>...</td>\n",
              "      <td>...</td>\n",
              "      <td>...</td>\n",
              "      <td>...</td>\n",
              "    </tr>\n",
              "    <tr>\n",
              "      <th>20635</th>\n",
              "      <td>78100.0</td>\n",
              "      <td>1.5603</td>\n",
              "      <td>25</td>\n",
              "      <td>1665</td>\n",
              "      <td>374</td>\n",
              "      <td>845</td>\n",
              "      <td>330</td>\n",
              "      <td>39.48</td>\n",
              "      <td>-121.09</td>\n",
              "      <td>162031.481121</td>\n",
              "      <td>654530.186299</td>\n",
              "      <td>830631.543047</td>\n",
              "      <td>248510.058162</td>\n",
              "      <td>222619.890417</td>\n",
              "    </tr>\n",
              "    <tr>\n",
              "      <th>20636</th>\n",
              "      <td>77100.0</td>\n",
              "      <td>2.5568</td>\n",
              "      <td>18</td>\n",
              "      <td>697</td>\n",
              "      <td>150</td>\n",
              "      <td>356</td>\n",
              "      <td>114</td>\n",
              "      <td>39.49</td>\n",
              "      <td>-121.21</td>\n",
              "      <td>160445.433537</td>\n",
              "      <td>659747.068444</td>\n",
              "      <td>836245.915229</td>\n",
              "      <td>246849.888948</td>\n",
              "      <td>218314.424634</td>\n",
              "    </tr>\n",
              "    <tr>\n",
              "      <th>20637</th>\n",
              "      <td>92300.0</td>\n",
              "      <td>1.7000</td>\n",
              "      <td>17</td>\n",
              "      <td>2254</td>\n",
              "      <td>485</td>\n",
              "      <td>1007</td>\n",
              "      <td>433</td>\n",
              "      <td>39.43</td>\n",
              "      <td>-121.22</td>\n",
              "      <td>153754.341182</td>\n",
              "      <td>654042.214020</td>\n",
              "      <td>830699.573163</td>\n",
              "      <td>240172.220489</td>\n",
              "      <td>212097.936232</td>\n",
              "    </tr>\n",
              "    <tr>\n",
              "      <th>20638</th>\n",
              "      <td>84700.0</td>\n",
              "      <td>1.8672</td>\n",
              "      <td>18</td>\n",
              "      <td>1860</td>\n",
              "      <td>409</td>\n",
              "      <td>741</td>\n",
              "      <td>349</td>\n",
              "      <td>39.43</td>\n",
              "      <td>-121.32</td>\n",
              "      <td>152005.022239</td>\n",
              "      <td>657698.007703</td>\n",
              "      <td>834672.461887</td>\n",
              "      <td>238193.865909</td>\n",
              "      <td>207923.199166</td>\n",
              "    </tr>\n",
              "    <tr>\n",
              "      <th>20639</th>\n",
              "      <td>89400.0</td>\n",
              "      <td>2.3886</td>\n",
              "      <td>16</td>\n",
              "      <td>2785</td>\n",
              "      <td>616</td>\n",
              "      <td>1387</td>\n",
              "      <td>530</td>\n",
              "      <td>39.37</td>\n",
              "      <td>-121.24</td>\n",
              "      <td>146866.196892</td>\n",
              "      <td>648723.337126</td>\n",
              "      <td>825569.179028</td>\n",
              "      <td>233282.769063</td>\n",
              "      <td>205473.376575</td>\n",
              "    </tr>\n",
              "  </tbody>\n",
              "</table>\n",
              "<p>20640 rows × 14 columns</p>\n",
              "</div>"
            ],
            "text/plain": [
              "       Median_House_Value  Median_Income  Median_Age  Tot_Rooms  Tot_Bedrooms  \\\n",
              "0                452600.0         8.3252          41        880           129   \n",
              "1                358500.0         8.3014          21       7099          1106   \n",
              "2                352100.0         7.2574          52       1467           190   \n",
              "3                341300.0         5.6431          52       1274           235   \n",
              "4                342200.0         3.8462          52       1627           280   \n",
              "...                   ...            ...         ...        ...           ...   \n",
              "20635             78100.0         1.5603          25       1665           374   \n",
              "20636             77100.0         2.5568          18        697           150   \n",
              "20637             92300.0         1.7000          17       2254           485   \n",
              "20638             84700.0         1.8672          18       1860           409   \n",
              "20639             89400.0         2.3886          16       2785           616   \n",
              "\n",
              "       Population  Households  Latitude  Longitude  Distance_to_coast  \\\n",
              "0             322         126     37.88    -122.23        9263.040773   \n",
              "1            2401        1138     37.86    -122.22       10225.733072   \n",
              "2             496         177     37.85    -122.24        8259.085109   \n",
              "3             558         219     37.85    -122.25        7768.086571   \n",
              "4             565         259     37.85    -122.25        7768.086571   \n",
              "...           ...         ...       ...        ...                ...   \n",
              "20635         845         330     39.48    -121.09      162031.481121   \n",
              "20636         356         114     39.49    -121.21      160445.433537   \n",
              "20637        1007         433     39.43    -121.22      153754.341182   \n",
              "20638         741         349     39.43    -121.32      152005.022239   \n",
              "20639        1387         530     39.37    -121.24      146866.196892   \n",
              "\n",
              "       Distance_to_LA  Distance_to_SanDiego  Distance_to_SanJose  \\\n",
              "0       556529.158342         735501.806984         67432.517001   \n",
              "1       554279.850069         733236.884360         65049.908574   \n",
              "2       554610.717069         733525.682937         64867.289833   \n",
              "3       555194.266086         734095.290744         65287.138412   \n",
              "4       555194.266086         734095.290744         65287.138412   \n",
              "...               ...                   ...                  ...   \n",
              "20635   654530.186299         830631.543047        248510.058162   \n",
              "20636   659747.068444         836245.915229        246849.888948   \n",
              "20637   654042.214020         830699.573163        240172.220489   \n",
              "20638   657698.007703         834672.461887        238193.865909   \n",
              "20639   648723.337126         825569.179028        233282.769063   \n",
              "\n",
              "       Distance_to_SanFrancisco  \n",
              "0                  21250.213767  \n",
              "1                  20880.600400  \n",
              "2                  18811.487450  \n",
              "3                  18031.047568  \n",
              "4                  18031.047568  \n",
              "...                         ...  \n",
              "20635             222619.890417  \n",
              "20636             218314.424634  \n",
              "20637             212097.936232  \n",
              "20638             207923.199166  \n",
              "20639             205473.376575  \n",
              "\n",
              "[20640 rows x 14 columns]"
            ]
          },
          "execution_count": 9,
          "metadata": {},
          "output_type": "execute_result"
        }
      ],
      "source": [
        "import pandas as pd\n",
        "\n",
        "df = pd.read_csv(\"../data/California_Houses.csv\")\n",
        "df.fillna(0, inplace=True)\n",
        "df"
      ]
    },
    {
      "cell_type": "code",
      "execution_count": 10,
      "metadata": {
        "id": "p59FwK2rHI6g"
      },
      "outputs": [],
      "source": [
        "import seaborn as sns\n",
        "import matplotlib.pyplot as plt\n",
        "%matplotlib inline"
      ]
    },
    {
      "cell_type": "code",
      "execution_count": 11,
      "metadata": {
        "colab": {
          "base_uri": "https://localhost:8080/",
          "height": 861
        },
        "id": "t0LpjGZ9PD0r",
        "outputId": "0506fc1d-0224-4355-8a1b-703673940610"
      },
      "outputs": [
        {
          "data": {
            "image/png": "[encoded data removed]",
            "text/plain": [
              "<Figure size 1080x1080 with 12 Axes>"
            ]
          },
          "metadata": {
            "needs_background": "light"
          },
          "output_type": "display_data"
        }
      ],
      "source": [
        "fig, ax = plt.subplots(4, 3, figsize=[15,15])\n",
        "\n",
        "sns.histplot(data=df, x=\"Median_House_Value\", ax=ax[0, 0])\n",
        "sns.histplot(data=df, x=\"Median_Income\", ax=ax[0, 1])\n",
        "sns.histplot(data=df, x=\"Median_Age\", ax=ax[0, 2])\n",
        "sns.histplot(data=df, x=\"Tot_Rooms\", ax=ax[1, 0])\n",
        "sns.histplot(data=df, x=\"Tot_Bedrooms\", ax=ax[1, 1])\n",
        "sns.histplot(data=df, x=\"Population\", ax=ax[1, 2])\n",
        "sns.histplot(data=df, x=\"Households\", ax=ax[2, 0])\n",
        "sns.histplot(data=df, x=\"Distance_to_coast\", ax=ax[2, 1])\n",
        "sns.histplot(data=df, x=\"Distance_to_LA\", ax=ax[2, 2])\n",
        "sns.histplot(data=df, x=\"Distance_to_SanDiego\", ax=ax[3, 0])\n",
        "sns.histplot(data=df, x=\"Distance_to_SanJose\", ax=ax[3, 1])\n",
        "sns.histplot(data=df, x=\"Distance_to_SanFrancisco\", ax=ax[3, 2])\n",
        "\n",
        "fig.tight_layout()\n",
        "plt.show()"
      ]
    },
    {
      "cell_type": "markdown",
      "metadata": {
        "id": "vBTiWSpIxaC6"
      },
      "source": [
        "## Using linear regression predict a houses distance to the coast based on other housing factors. "
      ]
    },
    {
      "cell_type": "code",
      "execution_count": 12,
      "metadata": {
        "id": "hzcPOvTEwmx6"
      },
      "outputs": [],
      "source": [
        "y = df[\"Distance_to_coast\"]\n",
        "\n",
        "data_keys = df.keys()[:-5]\n",
        "x_unscaled = df[data_keys]"
      ]
    },
    {
      "cell_type": "code",
      "execution_count": 13,
      "metadata": {
        "id": "YgEoWxCxmvzk"
      },
      "outputs": [],
      "source": [
        "from sklearn.decomposition import PCA"
      ]
    },
    {
      "cell_type": "code",
      "execution_count": 14,
      "metadata": {
        "colab": {
          "base_uri": "https://localhost:8080/"
        },
        "id": "iZpHsjqRsYFQ",
        "outputId": "01f1b48f-ee50-4279-9ce3-93a4a9eaee9a"
      },
      "outputs": [
        {
          "data": {
            "text/plain": [
              "array([[0.90226638, 0.53966842, 0.78431373, ..., 0.02055583, 0.5674814 ,\n",
              "        0.21115538],\n",
              "       [0.70824656, 0.53802706, 0.39215686, ..., 0.18697583, 0.565356  ,\n",
              "        0.21215139],\n",
              "       [0.69505074, 0.46602805, 1.        , ..., 0.02894261, 0.5642933 ,\n",
              "        0.21015936],\n",
              "       ...,\n",
              "       [0.15938285, 0.08276438, 0.31372549, ..., 0.07104095, 0.73219979,\n",
              "        0.31175299],\n",
              "       [0.14371281, 0.09429525, 0.33333333, ..., 0.05722743, 0.73219979,\n",
              "        0.30179283],\n",
              "       [0.15340349, 0.13025338, 0.29411765, ..., 0.08699227, 0.72582359,\n",
              "        0.30976096]])"
            ]
          },
          "execution_count": 14,
          "metadata": {},
          "output_type": "execute_result"
        }
      ],
      "source": [
        "from sklearn.preprocessing import MinMaxScaler\n",
        "\n",
        "scaler = MinMaxScaler()\n",
        "data_rescaled = scaler.fit_transform(x_unscaled)\n",
        "data_rescaled"
      ]
    },
    {
      "cell_type": "markdown",
      "metadata": {
        "id": "COUEkEi0xwOh"
      },
      "source": [
        "## Linear Regression model without principal comoponent analysis. "
      ]
    },
    {
      "cell_type": "code",
      "execution_count": 15,
      "metadata": {
        "id": "ZKtAenP4xvFm"
      },
      "outputs": [],
      "source": [
        "from sklearn.model_selection import train_test_split\n",
        "\n",
        "X_train, X_test, y_train, y_test = train_test_split(data_rescaled, y, test_size=.15, random_state=9)"
      ]
    },
    {
      "cell_type": "code",
      "execution_count": 16,
      "metadata": {
        "id": "5YSSxpjOxu9p"
      },
      "outputs": [],
      "source": [
        "from sklearn.linear_model import LinearRegression\n",
        "\n",
        "lr = LinearRegression()\n",
        "\n",
        "model = lr.fit(X_train, y_train)"
      ]
    },
    {
      "cell_type": "code",
      "execution_count": 17,
      "metadata": {
        "id": "Svhgf_bxxu6H"
      },
      "outputs": [],
      "source": [
        "y_pred = lr.predict(X_test)"
      ]
    },
    {
      "cell_type": "code",
      "execution_count": 18,
      "metadata": {
        "colab": {
          "base_uri": "https://localhost:8080/"
        },
        "id": "p5xXt9OJyioB",
        "outputId": "ae9b0c63-c772-46d6-adb0-647e4991b5c3"
      },
      "outputs": [
        {
          "data": {
            "text/plain": [
              "0.671"
            ]
          },
          "execution_count": 18,
          "metadata": {},
          "output_type": "execute_result"
        }
      ],
      "source": [
        "lr.score(X_test, y_test).round(4)"
      ]
    },
    {
      "cell_type": "markdown",
      "metadata": {
        "id": "R_49oU2qy4xL"
      },
      "source": [
        "## Testing the Linear Regression with PCA"
      ]
    },
    {
      "cell_type": "code",
      "execution_count": 22,
      "metadata": {
        "id": "8_S_GurrtTXD"
      },
      "outputs": [],
      "source": [
        "pca = PCA(n_components=6) \n",
        "pca.fit(data_rescaled)\n",
        "reduced = pca.transform(data_rescaled)"
      ]
    },
    {
      "cell_type": "code",
      "execution_count": 23,
      "metadata": {
        "id": "82OpWVOxzLcC"
      },
      "outputs": [],
      "source": [
        "pca_X_train, pca_X_test, pca_y_train, pca_y_test = train_test_split(reduced, y, test_size=0.15, random_state=9)"
      ]
    },
    {
      "cell_type": "code",
      "execution_count": 24,
      "metadata": {
        "id": "2sMSyPHKzYOP"
      },
      "outputs": [],
      "source": [
        "pca_lr = LinearRegression()\n",
        "\n",
        "pca_model = pca_lr.fit(pca_X_train, pca_y_train)"
      ]
    },
    {
      "cell_type": "code",
      "execution_count": 25,
      "metadata": {
        "id": "xMJdwmsuzbRu"
      },
      "outputs": [],
      "source": [
        "pca_pred = pca_lr.predict(pca_X_test)"
      ]
    },
    {
      "cell_type": "code",
      "execution_count": 26,
      "metadata": {
        "colab": {
          "base_uri": "https://localhost:8080/"
        },
        "id": "e50vm8hZzk8p",
        "outputId": "b5bb237c-4e08-4adf-cfd5-692a2dacd699"
      },
      "outputs": [
        {
          "data": {
            "text/plain": [
              "0.6706"
            ]
          },
          "execution_count": 26,
          "metadata": {},
          "output_type": "execute_result"
        }
      ],
      "source": [
        "pca_lr.score(pca_X_test, pca_y_test).round(4)"
      ]
    },
    {
      "cell_type": "markdown",
      "metadata": {
        "id": "xxxitxCI0yZN"
      },
      "source": [
        "As you can see dropping our components from 9 to 6 using PCA gives us very similar results as the standard linear regression. "
      ]
    },
    {
      "cell_type": "markdown",
      "metadata": {
        "id": "6lsAJUM80LEw"
      },
      "source": [
        "## Testing the Linear Regression with SVD"
      ]
    },
    {
      "cell_type": "code",
      "execution_count": 27,
      "metadata": {
        "id": "6V6g5_MJzwNO"
      },
      "outputs": [],
      "source": [
        "from sklearn.decomposition import TruncatedSVD"
      ]
    },
    {
      "cell_type": "code",
      "execution_count": 28,
      "metadata": {
        "id": "BkLffNqR1FpL"
      },
      "outputs": [],
      "source": [
        "svd = TruncatedSVD(n_components=6)\n",
        "svd.fit(data_rescaled)\n",
        "svd_reduced = svd.transform(data_rescaled)"
      ]
    },
    {
      "cell_type": "code",
      "execution_count": 29,
      "metadata": {
        "id": "s34wx3-J1WLo"
      },
      "outputs": [],
      "source": [
        "svd_X_train, svd_X_test, svd_y_train, svd_y_test = train_test_split(svd_reduced, y, test_size=0.15, random_state=9)"
      ]
    },
    {
      "cell_type": "code",
      "execution_count": 30,
      "metadata": {
        "id": "eT1XKH-21grA"
      },
      "outputs": [],
      "source": [
        "svd_lr = LinearRegression()\n",
        "\n",
        "svd_model = svd_lr.fit(svd_X_train, svd_y_train)"
      ]
    },
    {
      "cell_type": "code",
      "execution_count": 31,
      "metadata": {
        "id": "92sR6eXb1obG"
      },
      "outputs": [],
      "source": [
        "svd_pred = svd_lr.predict(svd_X_test)"
      ]
    },
    {
      "cell_type": "code",
      "execution_count": 32,
      "metadata": {
        "colab": {
          "base_uri": "https://localhost:8080/"
        },
        "id": "1CS65z8Q1sJF",
        "outputId": "0807c872-e6f5-40ab-fe6a-2bf9d9c9439f"
      },
      "outputs": [
        {
          "data": {
            "text/plain": [
              "0.6695"
            ]
          },
          "execution_count": 32,
          "metadata": {},
          "output_type": "execute_result"
        }
      ],
      "source": [
        "svd_lr.score(svd_X_test, svd_y_test).round(4)"
      ]
    },
    {
      "cell_type": "code",
      "execution_count": null,
      "metadata": {
        "id": "-PPw_2gV1w-f"
      },
      "outputs": [],
      "source": []
    }
  ],
  "metadata": {
    "colab": {
      "name": "HousingPrices-Regression.ipynb",
      "provenance": []
    },
    "kernelspec": {
      "display_name": "Python 3.10.4 ('pytorch')",
      "language": "python",
      "name": "python3"
    },
    "language_info": {
      "codemirror_mode": {
        "name": "ipython",
        "version": 3
      },
      "file_extension": ".py",
      "mimetype": "text/x-python",
      "name": "python",
      "nbconvert_exporter": "python",
      "pygments_lexer": "ipython3",
      "version": "3.10.4"
    },
    "vscode": {
      "interpreter": {
        "hash": "5337e1af422674de2ca71378ea294611b7d9d6a457ed46bdc67b3fcd579c6b2e"
      }
    }
  },
  "nbformat": 4,
  "nbformat_minor": 0
}
